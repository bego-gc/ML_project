{
 "cells": [
  {
   "cell_type": "markdown",
   "metadata": {},
   "source": [
    "# Import"
   ]
  },
  {
   "cell_type": "code",
   "execution_count": 17,
   "metadata": {},
   "outputs": [],
   "source": [
    "# Imports\n",
    "import pandas as pd\n",
    "import seaborn as sns\n",
    "import matplotlib.pyplot as plt\n",
    "import numpy as np\n",
    "#!pip install matplotlib\n",
    "\n",
    "from sklearn.ensemble import RandomForestRegressor\n",
    "from sklearn.preprocessing import StandardScaler\n",
    "from sklearn.preprocessing import LabelEncoder\n",
    "from sklearn.model_selection import train_test_split\n",
    "from sklearn.metrics import mean_squared_error, r2_score, mean_absolute_error\n",
    "from scipy.stats import pearsonr\n",
    "from sklearn.model_selection import cross_val_score, KFold"
   ]
  },
  {
   "cell_type": "code",
   "execution_count": 18,
   "metadata": {},
   "outputs": [],
   "source": [
    "data = pd.read_csv ('data/Salary.csv')\n",
    "# Fuente: https://www.kaggle.com/datasets/amirmahdiabbootalebi/salary-by-job-title-and-country"
   ]
  },
  {
   "cell_type": "markdown",
   "metadata": {},
   "source": [
    "# Feature"
   ]
  },
  {
   "cell_type": "code",
   "execution_count": 19,
   "metadata": {},
   "outputs": [],
   "source": [
    "# Ordenar el DataFrame por la columna 'Salary' de menor a mayor\n",
    "data = data.sort_values(by='Salary')\n",
    "\n",
    "# Crear un diccionario para asignar valores numéricos a cada 'Job Title' basado en el salario\n",
    "jobtitle_salary_mapping = {title: idx for idx, title in enumerate(data['Job Title'].unique(), start=1)}\n",
    "\n",
    "# Mapear los títulos de trabajo al valor numérico basado en el salario\n",
    "data['Job Title Numeric'] = data['Job Title'].map(jobtitle_salary_mapping)"
   ]
  },
  {
   "cell_type": "code",
   "execution_count": 20,
   "metadata": {},
   "outputs": [
    {
     "name": "stdout",
     "output_type": "stream",
     "text": [
      "Business Operations Analyst: 1\n",
      "HR Coordinator: 2\n",
      "Front end Developer: 3\n",
      "Software Engineer Manager: 4\n",
      "Sales Associate: 5\n",
      "Receptionist: 6\n",
      "Sales Representative: 7\n",
      "Delivery Driver: 8\n",
      "Digital Marketing Manager: 9\n",
      "Customer Service Representative: 10\n",
      "HR Generalist: 11\n",
      "Juniour HR Coordinator: 12\n",
      "Sales Executive: 13\n",
      "Software Developer: 14\n",
      "Web Developer: 15\n",
      "Accountant: 16\n",
      "Marketing Analyst: 17\n",
      "Sales Manager: 18\n",
      "Help Desk Analyst: 19\n",
      "Business Development Associate: 20\n",
      "Operations Analyst: 21\n",
      "Data Entry Clerk: 22\n",
      "Customer Support Specialist: 23\n",
      "Operations Manager: 24\n",
      "Software Engineer: 25\n",
      "Business Analyst: 26\n",
      "Developer: 27\n",
      "Marketing Coordinator: 28\n",
      "Customer Success Rep: 29\n",
      "Marketing Specialist: 30\n",
      "Copywriter: 31\n",
      "Project Manager: 32\n",
      "Financial Analyst: 33\n",
      "Technical Support Specialist: 34\n",
      "Operations Coordinator: 35\n",
      "Designer: 36\n",
      "Customer Service Rep: 37\n",
      "Customer Success Manager: 38\n",
      "Product Manager: 39\n",
      "Juniour HR Generalist: 40\n",
      "Graphic Designer: 41\n",
      "Account Manager: 42\n",
      "Data Scientist: 43\n",
      "Event Coordinator: 44\n",
      "Social Media Specialist: 45\n",
      "Web Designer: 46\n",
      "Human Resources Coordinator: 47\n",
      "Administrative Assistant: 48\n",
      "Recruiter: 49\n",
      "Technical Writer: 50\n",
      "Financial Manager: 51\n",
      "Social Media Manager: 52\n",
      "Advertising Coordinator: 53\n",
      "UX Designer: 54\n",
      "Product Designer: 55\n",
      "Data Analyst: 56\n",
      "Front End Developer: 57\n",
      "IT Support: 58\n",
      "Research Scientist: 59\n",
      "Digital Content Producer: 60\n",
      "Marketing Manager: 61\n",
      "Project Engineer: 62\n",
      "Back end Developer: 63\n",
      "Full Stack Engineer: 64\n",
      "Content Marketing Manager: 65\n",
      "IT Support Specialist: 66\n",
      "Digital Marketing Specialist: 67\n",
      "Network Engineer: 68\n",
      "Office Manager: 69\n",
      "UX Researcher: 70\n",
      "Financial Advisor: 71\n",
      "Training Specialist: 72\n",
      "Product Marketing Manager: 73\n",
      "Human Resources Manager: 74\n",
      "Sales Director: 75\n",
      "Technical Recruiter: 76\n",
      "Director of Marketing: 77\n",
      "Project Coordinator: 78\n",
      "Customer Service Manager: 79\n",
      "HR Manager: 80\n",
      "Director of HR: 81\n",
      "Business Intelligence Analyst: 82\n",
      "Business Development Manager: 83\n",
      "Public Relations Manager: 84\n",
      "Software Project Manager: 85\n",
      "Account Executive: 86\n",
      "Quality Assurance Analyst: 87\n",
      "Product Development Manager: 88\n",
      "Social Media Man: 89\n",
      "Supply Chain Manager: 90\n",
      "Scientist: 91\n",
      "Sales Operations Manager: 92\n",
      "IT Consultant: 93\n",
      "Software Manager: 94\n",
      "Engineer: 95\n",
      "IT Manager: 96\n",
      "Creative Director: 97\n",
      "Human Resources Specialist: 98\n",
      "Software Architect: 99\n",
      "Principal Scientist: 100\n",
      "IT Project Manager: 101\n",
      "Strategy Consultant: 102\n",
      "Supply Chain Analyst: 103\n",
      "Consultant: 104\n",
      "HR Specialist: 105\n",
      "Manager: 106\n",
      "Research Director: 107\n",
      "Data Engineer: 108\n",
      "Researcher: 109\n",
      "Marketing Director: 110\n",
      "Director of Operations: 111\n",
      "Director of Business Development: 112\n",
      "Director of Finance: 113\n",
      "Director of Data Science: 114\n",
      "Principal Engineer: 115\n",
      "Director of Sales: 116\n",
      "Director of Product Management: 117\n",
      "Director of Human Capital: 118\n",
      "Human Resources Director: 119\n",
      "Director of Sales and Marketing: 120\n",
      "Director of Engineering: 121\n",
      "Director of Human Resources: 122\n",
      "VP of Operations: 123\n",
      "Operations Director: 124\n",
      "Director: 125\n",
      "VP of Finance: 126\n",
      "Chief Data Officer: 127\n",
      "Chief Technology Officer: 128\n",
      "CEO: 129\n"
     ]
    }
   ],
   "source": [
    "# Crear un diccionario para asignar valores numéricos a cada 'Job Title' basado en el salario\n",
    "jobtitle_salary_mapping = {title: idx for idx, title in enumerate(data['Job Title'].unique(), start=1)}\n",
    "\n",
    "# Mostrar cada valor único de 'Job Title' con su valor numérico correspondiente\n",
    "unique_job_titles = data['Job Title'].unique()\n",
    "\n",
    "for title in unique_job_titles:\n",
    "    job_numeric = jobtitle_salary_mapping[title]\n",
    "    print(f\"{title}: {job_numeric}\")"
   ]
  },
  {
   "cell_type": "code",
   "execution_count": 21,
   "metadata": {},
   "outputs": [],
   "source": [
    "# Ordenar el DataFrame por la columna 'Salary' de menor a mayor manteniendo el orden de 'Country'\n",
    "data = data.sort_values(by='Salary')\n",
    "\n",
    "# Crear un diccionario para asignar valores numéricos a cada 'Country' basado en el salario\n",
    "country_salary_mapping = {country: idx for idx, country in enumerate(data['Country'].unique(), start=1)}\n",
    "\n",
    "# Mapear los países al valor numérico basado en el salario\n",
    "data['Country Numeric'] = data['Country'].map(country_salary_mapping)"
   ]
  },
  {
   "cell_type": "code",
   "execution_count": 22,
   "metadata": {},
   "outputs": [],
   "source": [
    "# Convertir valores string de la columna 'Race' a valores numéricos\n",
    "race_numeric, _ = data['Race'].factorize()\n",
    "\n",
    "# Añadir la nueva columna 'Race Numeric' (números empezando desde 1)\n",
    "data['Race Numeric'] = race_numeric + 1  # Sumar 1 para iniciar los números desde 1\n",
    "\n",
    "# Actualizar el DataFrame original 'data' con la nueva columna 'Race Numeric'\n",
    "data['Race Numeric'] = data['Race Numeric']"
   ]
  },
  {
   "cell_type": "code",
   "execution_count": 23,
   "metadata": {},
   "outputs": [],
   "source": [
    "# Mapear las string \"Gender\" a valores numéricos\n",
    "data['Gender'] = data['Gender'].map({'Male': 0, 'Female': 1})"
   ]
  },
  {
   "cell_type": "code",
   "execution_count": 24,
   "metadata": {},
   "outputs": [],
   "source": [
    "data_numeric = data[['Age', 'Gender', 'Education Level', 'Years of Experience', 'Salary', 'Senior', 'Job Title Numeric', 'Country Numeric', 'Race Numeric']]"
   ]
  },
  {
   "cell_type": "markdown",
   "metadata": {},
   "source": [
    "# Dividir en train_1 y test_1, el modelo se aplica a train_1"
   ]
  },
  {
   "cell_type": "code",
   "execution_count": 25,
   "metadata": {},
   "outputs": [],
   "source": [
    "# Dividir en train1 y test1 para trabajar solo con el conjunto de entrenamiento train1, y mantener el conjunto de prueba test1\n",
    "    # sin cambios hasta el final del proceso de aprendizaje automático\n",
    "\n",
    "X = data_numeric[['Age', 'Gender', 'Education Level', 'Years of Experience', 'Senior', 'Job Title Numeric', 'Country Numeric', 'Race Numeric']]\n",
    "y = data_numeric[\"Salary\"] # target \n",
    "\n",
    "# Dividir TODOS los datos en train y test\n",
    "X_train1, X_test1, y_train1, y_test1 = train_test_split(X, y, test_size=0.2, random_state=42)"
   ]
  },
  {
   "cell_type": "code",
   "execution_count": 26,
   "metadata": {},
   "outputs": [
    {
     "name": "stdout",
     "output_type": "stream",
     "text": [
      "Train2 features shape: (5347, 8)\n",
      "Test2 features shape: (1337, 8)\n",
      "Train2 target shape: (5347,)\n",
      "Test2 target shape: (1337,)\n"
     ]
    }
   ],
   "source": [
    "print(\"Train2 features shape:\", X_train1.shape)\n",
    "print(\"Test2 features shape:\", X_test1.shape)\n",
    "print(\"Train2 target shape:\", y_train1.shape)\n",
    "print(\"Test2 target shape:\", y_test1.shape)"
   ]
  },
  {
   "cell_type": "markdown",
   "metadata": {},
   "source": [
    "# Random Forest"
   ]
  },
  {
   "cell_type": "code",
   "execution_count": 27,
   "metadata": {},
   "outputs": [],
   "source": [
    "X = data_numeric[['Age', 'Gender', 'Education Level', 'Years of Experience', 'Senior', 'Job Title Numeric', 'Country Numeric', 'Race Numeric']]\n",
    "y = data_numeric[\"Salary\"] # target "
   ]
  },
  {
   "cell_type": "code",
   "execution_count": 28,
   "metadata": {},
   "outputs": [],
   "source": [
    "# Dividir train1 en train2 y test2:\n",
    "X_train2, X_test2, y_train2, y_test2 = train_test_split(X_train1, y_train1, test_size=0.2, random_state=42)"
   ]
  },
  {
   "cell_type": "code",
   "execution_count": 29,
   "metadata": {},
   "outputs": [
    {
     "data": {
      "text/html": [
       "<style>#sk-container-id-2 {color: black;}#sk-container-id-2 pre{padding: 0;}#sk-container-id-2 div.sk-toggleable {background-color: white;}#sk-container-id-2 label.sk-toggleable__label {cursor: pointer;display: block;width: 100%;margin-bottom: 0;padding: 0.3em;box-sizing: border-box;text-align: center;}#sk-container-id-2 label.sk-toggleable__label-arrow:before {content: \"▸\";float: left;margin-right: 0.25em;color: #696969;}#sk-container-id-2 label.sk-toggleable__label-arrow:hover:before {color: black;}#sk-container-id-2 div.sk-estimator:hover label.sk-toggleable__label-arrow:before {color: black;}#sk-container-id-2 div.sk-toggleable__content {max-height: 0;max-width: 0;overflow: hidden;text-align: left;background-color: #f0f8ff;}#sk-container-id-2 div.sk-toggleable__content pre {margin: 0.2em;color: black;border-radius: 0.25em;background-color: #f0f8ff;}#sk-container-id-2 input.sk-toggleable__control:checked~div.sk-toggleable__content {max-height: 200px;max-width: 100%;overflow: auto;}#sk-container-id-2 input.sk-toggleable__control:checked~label.sk-toggleable__label-arrow:before {content: \"▾\";}#sk-container-id-2 div.sk-estimator input.sk-toggleable__control:checked~label.sk-toggleable__label {background-color: #d4ebff;}#sk-container-id-2 div.sk-label input.sk-toggleable__control:checked~label.sk-toggleable__label {background-color: #d4ebff;}#sk-container-id-2 input.sk-hidden--visually {border: 0;clip: rect(1px 1px 1px 1px);clip: rect(1px, 1px, 1px, 1px);height: 1px;margin: -1px;overflow: hidden;padding: 0;position: absolute;width: 1px;}#sk-container-id-2 div.sk-estimator {font-family: monospace;background-color: #f0f8ff;border: 1px dotted black;border-radius: 0.25em;box-sizing: border-box;margin-bottom: 0.5em;}#sk-container-id-2 div.sk-estimator:hover {background-color: #d4ebff;}#sk-container-id-2 div.sk-parallel-item::after {content: \"\";width: 100%;border-bottom: 1px solid gray;flex-grow: 1;}#sk-container-id-2 div.sk-label:hover label.sk-toggleable__label {background-color: #d4ebff;}#sk-container-id-2 div.sk-serial::before {content: \"\";position: absolute;border-left: 1px solid gray;box-sizing: border-box;top: 0;bottom: 0;left: 50%;z-index: 0;}#sk-container-id-2 div.sk-serial {display: flex;flex-direction: column;align-items: center;background-color: white;padding-right: 0.2em;padding-left: 0.2em;position: relative;}#sk-container-id-2 div.sk-item {position: relative;z-index: 1;}#sk-container-id-2 div.sk-parallel {display: flex;align-items: stretch;justify-content: center;background-color: white;position: relative;}#sk-container-id-2 div.sk-item::before, #sk-container-id-2 div.sk-parallel-item::before {content: \"\";position: absolute;border-left: 1px solid gray;box-sizing: border-box;top: 0;bottom: 0;left: 50%;z-index: -1;}#sk-container-id-2 div.sk-parallel-item {display: flex;flex-direction: column;z-index: 1;position: relative;background-color: white;}#sk-container-id-2 div.sk-parallel-item:first-child::after {align-self: flex-end;width: 50%;}#sk-container-id-2 div.sk-parallel-item:last-child::after {align-self: flex-start;width: 50%;}#sk-container-id-2 div.sk-parallel-item:only-child::after {width: 0;}#sk-container-id-2 div.sk-dashed-wrapped {border: 1px dashed gray;margin: 0 0.4em 0.5em 0.4em;box-sizing: border-box;padding-bottom: 0.4em;background-color: white;}#sk-container-id-2 div.sk-label label {font-family: monospace;font-weight: bold;display: inline-block;line-height: 1.2em;}#sk-container-id-2 div.sk-label-container {text-align: center;}#sk-container-id-2 div.sk-container {/* jupyter's `normalize.less` sets `[hidden] { display: none; }` but bootstrap.min.css set `[hidden] { display: none !important; }` so we also need the `!important` here to be able to override the default hidden behavior on the sphinx rendered scikit-learn.org. See: https://github.com/scikit-learn/scikit-learn/issues/21755 */display: inline-block !important;position: relative;}#sk-container-id-2 div.sk-text-repr-fallback {display: none;}</style><div id=\"sk-container-id-2\" class=\"sk-top-container\"><div class=\"sk-text-repr-fallback\"><pre>RandomForestRegressor(random_state=42)</pre><b>In a Jupyter environment, please rerun this cell to show the HTML representation or trust the notebook. <br />On GitHub, the HTML representation is unable to render, please try loading this page with nbviewer.org.</b></div><div class=\"sk-container\" hidden><div class=\"sk-item\"><div class=\"sk-estimator sk-toggleable\"><input class=\"sk-toggleable__control sk-hidden--visually\" id=\"sk-estimator-id-2\" type=\"checkbox\" checked><label for=\"sk-estimator-id-2\" class=\"sk-toggleable__label sk-toggleable__label-arrow\">RandomForestRegressor</label><div class=\"sk-toggleable__content\"><pre>RandomForestRegressor(random_state=42)</pre></div></div></div></div></div>"
      ],
      "text/plain": [
       "RandomForestRegressor(random_state=42)"
      ]
     },
     "execution_count": 29,
     "metadata": {},
     "output_type": "execute_result"
    }
   ],
   "source": [
    "# Crear el modelo de Random Forest Regression\n",
    "random_forest = RandomForestRegressor(n_estimators=100, random_state=42)\n",
    "\n",
    "# Entrenar el modelo con los datos escalados\n",
    "random_forest.fit(X_train2, y_train2)"
   ]
  },
  {
   "cell_type": "code",
   "execution_count": 30,
   "metadata": {},
   "outputs": [],
   "source": [
    "# Realizar predicciones en el conjunto de prueba\n",
    "predictions_rf = random_forest.predict(X_test2)"
   ]
  },
  {
   "cell_type": "code",
   "execution_count": 31,
   "metadata": {},
   "outputs": [
    {
     "name": "stdout",
     "output_type": "stream",
     "text": [
      "Mean Squared Error (Random Forest): 81240428.136985\n",
      "R-squared (Random Forest): 0.9710163087690005\n",
      "Mean Absolute Error (Random Forest): 4169.5950028590305\n",
      "Pearson Correlation (Random Forest): 0.9854150714833849\n"
     ]
    }
   ],
   "source": [
    "# Rendimiento del modelo\n",
    "mse_rf = mean_squared_error(y_test2, predictions_rf)\n",
    "r2_rf = r2_score(y_test2, predictions_rf)\n",
    "mae_rf = mean_absolute_error(y_test2, predictions_rf)\n",
    "pearson_corr_rf, _ = pearsonr(y_test2, predictions_rf)\n",
    "\n",
    "print(f\"Mean Squared Error (Random Forest): {mse_rf}\")\n",
    "print(f\"R-squared (Random Forest): {r2_rf}\")\n",
    "print(f\"Mean Absolute Error (Random Forest): {mae_rf}\")\n",
    "print(f\"Pearson Correlation (Random Forest): {pearson_corr_rf}\")"
   ]
  },
  {
   "cell_type": "markdown",
   "metadata": {},
   "source": [
    "# Validación cruzada"
   ]
  },
  {
   "cell_type": "code",
   "execution_count": 34,
   "metadata": {},
   "outputs": [
    {
     "name": "stdout",
     "output_type": "stream",
     "text": [
      "Promedio MSE: 102395163.33955608\n",
      "Promedio MAE: 4707.3279064549815\n",
      "Promedio R-squared: 0.9630619468397679\n",
      "Promedio Pearson Correlation: 0.9815311687875099\n"
     ]
    }
   ],
   "source": [
    "from sklearn.model_selection import cross_validate\n",
    "from sklearn.ensemble import RandomForestRegressor\n",
    "from sklearn.metrics import make_scorer, mean_squared_error, mean_absolute_error, r2_score\n",
    "from scipy.stats import pearsonr\n",
    "import numpy as np\n",
    "\n",
    "# Función para calcular la correlación de Pearson\n",
    "def pearson_corr(y_true, y_pred):\n",
    "    corr, _ = pearsonr(y_true, y_pred)\n",
    "    return corr\n",
    "\n",
    "# Crear el modelo de Random Forest Regression\n",
    "random_forest = RandomForestRegressor(n_estimators=100, random_state=42)\n",
    "\n",
    "# Definir las métricas que se desean calcular\n",
    "scoring = {\n",
    "    'mse': make_scorer(mean_squared_error),\n",
    "    'mae': make_scorer(mean_absolute_error),\n",
    "    'r2': make_scorer(r2_score),\n",
    "    'pearson_corr': make_scorer(pearson_corr)\n",
    "}\n",
    "\n",
    "# Realizar validación cruzada con múltiples métricas\n",
    "cv_results = cross_validate(random_forest, X_train2, y_train2, cv=5, scoring=scoring)\n",
    "\n",
    "# Obtener los resultados de las métricas\n",
    "mse_scores = cv_results['test_mse']\n",
    "mae_scores = cv_results['test_mae']\n",
    "r2_scores = cv_results['test_r2']\n",
    "pearson_scores = cv_results['test_pearson_corr']\n",
    "\n",
    "# Imprimir los resultados promedio de cada métrica\n",
    "print(\"Promedio MSE:\", np.mean(mse_scores))\n",
    "print(\"Promedio MAE:\", np.mean(mae_scores))\n",
    "print(\"Promedio R-squared:\", np.mean(r2_scores))\n",
    "print(\"Promedio Pearson Correlation:\", np.mean(pearson_scores))"
   ]
  },
  {
   "cell_type": "markdown",
   "metadata": {},
   "source": [
    "# Grid Search"
   ]
  },
  {
   "cell_type": "code",
   "execution_count": 35,
   "metadata": {},
   "outputs": [
    {
     "name": "stdout",
     "output_type": "stream",
     "text": [
      "Mejores hiperparámetros: {'max_depth': None, 'n_estimators': 100}\n"
     ]
    }
   ],
   "source": [
    "from sklearn.model_selection import GridSearchCV\n",
    "from sklearn.ensemble import RandomForestRegressor\n",
    "\n",
    "# Definir la cuadrícula de hiperparámetros a explorar\n",
    "param_grid = {\n",
    "    'n_estimators': [100, 200, 300],  # Diferentes números de árboles en el bosque\n",
    "    'max_depth': [None, 5, 10, 15],   # Profundidades máximas del árbol\n",
    "    # Otros hiperparámetros que desees ajustar\n",
    "}\n",
    "\n",
    "# Crear el modelo de Random Forest Regression\n",
    "random_forest = RandomForestRegressor(random_state=42)\n",
    "\n",
    "# Inicializar Grid Search con validación cruzada (por ejemplo, con 5 folds)\n",
    "grid_search = GridSearchCV(random_forest, param_grid, cv=5, scoring='neg_mean_squared_error', n_jobs=-1)\n",
    "\n",
    "# Entrenar el modelo con diferentes combinaciones de hiperparámetros\n",
    "grid_search.fit(X_train2, y_train2)\n",
    "\n",
    "# Obtener los mejores hiperparámetros encontrados por Grid Search\n",
    "best_params = grid_search.best_params_\n",
    "print(\"Mejores hiperparámetros:\", best_params)"
   ]
  },
  {
   "cell_type": "code",
   "execution_count": 36,
   "metadata": {},
   "outputs": [],
   "source": [
    "# Obtener el mejor modelo entrenado con los mejores hiperparámetros\n",
    "best_model = grid_search.best_estimator_"
   ]
  },
  {
   "cell_type": "code",
   "execution_count": 37,
   "metadata": {},
   "outputs": [],
   "source": [
    "# Realizar predicciones en el conjunto de prueba con el mejor modelo\n",
    "predictions_best = best_model.predict(X_test2)"
   ]
  },
  {
   "cell_type": "code",
   "execution_count": 38,
   "metadata": {},
   "outputs": [
    {
     "name": "stdout",
     "output_type": "stream",
     "text": [
      "Mean Squared Error (Best Model): 81240428.136985\n",
      "R-squared (Best Model): 0.9710163087690005\n",
      "Mean Absolute Error (Best Model): 4169.5950028590305\n",
      "Pearson Correlation (Best Model): 0.9854150714833849\n"
     ]
    }
   ],
   "source": [
    "# Evaluar el rendimiento del mejor modelo\n",
    "mse_best = mean_squared_error(y_test2, predictions_best)\n",
    "r2_best = r2_score(y_test2, predictions_best)\n",
    "mae_best = mean_absolute_error(y_test2, predictions_best)\n",
    "pearson_corr_best, _ = pearsonr(y_test2, predictions_best)\n",
    "\n",
    "# Imprimir las métricas del mejor modelo\n",
    "print(f\"Mean Squared Error (Best Model): {mse_best}\")\n",
    "print(f\"R-squared (Best Model): {r2_best}\")\n",
    "print(f\"Mean Absolute Error (Best Model): {mae_best}\")\n",
    "print(f\"Pearson Correlation (Best Model): {pearson_corr_best}\")"
   ]
  }
 ],
 "metadata": {
  "kernelspec": {
   "display_name": "Python 3",
   "language": "python",
   "name": "python3"
  },
  "language_info": {
   "codemirror_mode": {
    "name": "ipython",
    "version": 3
   },
   "file_extension": ".py",
   "mimetype": "text/x-python",
   "name": "python",
   "nbconvert_exporter": "python",
   "pygments_lexer": "ipython3",
   "version": "3.11.5"
  }
 },
 "nbformat": 4,
 "nbformat_minor": 2
}
